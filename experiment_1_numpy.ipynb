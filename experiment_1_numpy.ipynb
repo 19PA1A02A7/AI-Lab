{
  "nbformat": 4,
  "nbformat_minor": 0,
  "metadata": {
    "colab": {
      "name": "Copy of Untitled2.ipynb",
      "provenance": [],
      "authorship_tag": "ABX9TyNWgNWHcbewufSFTw0PxuE0",
      "include_colab_link": true
    },
    "kernelspec": {
      "name": "python3",
      "display_name": "Python 3"
    }
  },
  "cells": [
    {
      "cell_type": "markdown",
      "metadata": {
        "id": "view-in-github",
        "colab_type": "text"
      },
      "source": [
        "<a href=\"https://colab.research.google.com/github/19PA1A02A7/AI-Lab/blob/master/experiment_1_numpy.ipynb\" target=\"_parent\"><img src=\"https://colab.research.google.com/assets/colab-badge.svg\" alt=\"Open In Colab\"/></a>"
      ]
    },
    {
      "cell_type": "markdown",
      "metadata": {
        "id": "2v4DiTfuV8gy",
        "colab_type": "text"
      },
      "source": [
        "# *Artificial Intelligence Tools,Techniques and Applications*"
      ]
    },
    {
      "cell_type": "markdown",
      "metadata": {
        "id": "xIvBPyeIjLXA",
        "colab_type": "text"
      },
      "source": [
        "# \"Experiment No1: Numpy\""
      ]
    },
    {
      "cell_type": "markdown",
      "metadata": {
        "id": "9ySAzVRZaaEj",
        "colab_type": "text"
      },
      "source": [
        "# 1) Different ways to create numpy arrays"
      ]
    },
    {
      "cell_type": "code",
      "metadata": {
        "id": "zQcQykSlW6qy",
        "colab_type": "code",
        "colab": {
          "base_uri": "https://localhost:8080/",
          "height": 34
        },
        "outputId": "b145d167-a6a4-46d2-c707-6d69fc27ffde"
      },
      "source": [
        "import numpy as np\n",
        "a = np.array([1,2,3])\n",
        "print(a)"
      ],
      "execution_count": null,
      "outputs": [
        {
          "output_type": "stream",
          "text": [
            "[1 2 3]\n"
          ],
          "name": "stdout"
        }
      ]
    },
    {
      "cell_type": "code",
      "metadata": {
        "id": "eGgJPFZEZrRl",
        "colab_type": "code",
        "colab": {
          "base_uri": "https://localhost:8080/",
          "height": 51
        },
        "outputId": "20df7150-6322-47d0-ba9b-233b3d9c7856"
      },
      "source": [
        "a = np.array([[1,2,3],[91,92,93]])\n",
        "print(a)"
      ],
      "execution_count": null,
      "outputs": [
        {
          "output_type": "stream",
          "text": [
            "[[ 1  2  3]\n",
            " [91 92 93]]\n"
          ],
          "name": "stdout"
        }
      ]
    },
    {
      "cell_type": "markdown",
      "metadata": {
        "id": "Kf0l0z3taUEL",
        "colab_type": "text"
      },
      "source": [
        "# 2)Add, remove, modify elements in an array"
      ]
    },
    {
      "cell_type": "markdown",
      "metadata": {
        "id": "MFPGMczdgIOs",
        "colab_type": "text"
      },
      "source": [
        "**Add**:"
      ]
    },
    {
      "cell_type": "code",
      "metadata": {
        "id": "6W2me-qlafw3",
        "colab_type": "code",
        "colab": {
          "base_uri": "https://localhost:8080/",
          "height": 34
        },
        "outputId": "c7afc88c-7cea-4c50-c221-8ddfa80de089"
      },
      "source": [
        " \n",
        "a = np.array([1,2,3])\n",
        "b = np.append(a,[80,90,100])\n",
        "print(b)"
      ],
      "execution_count": null,
      "outputs": [
        {
          "output_type": "stream",
          "text": [
            "[  1   2   3  80  90 100]\n"
          ],
          "name": "stdout"
        }
      ]
    },
    {
      "cell_type": "markdown",
      "metadata": {
        "id": "XacVnRS4gMKY",
        "colab_type": "text"
      },
      "source": [
        "**Remove**:"
      ]
    },
    {
      "cell_type": "code",
      "metadata": {
        "id": "E-OdwXW9at5t",
        "colab_type": "code",
        "colab": {
          "base_uri": "https://localhost:8080/",
          "height": 34
        },
        "outputId": "e1be973f-f2c1-40ab-91af-1f567cef1fd2"
      },
      "source": [
        " \n",
        "c = np.delete(a,2)\n",
        "print(c)"
      ],
      "execution_count": null,
      "outputs": [
        {
          "output_type": "stream",
          "text": [
            "[1 2]\n"
          ],
          "name": "stdout"
        }
      ]
    },
    {
      "cell_type": "markdown",
      "metadata": {
        "id": "cRQmfHEEa13m",
        "colab_type": "text"
      },
      "source": [
        "**Modify**:"
      ]
    },
    {
      "cell_type": "code",
      "metadata": {
        "id": "5C6sxeGoa4N9",
        "colab_type": "code",
        "colab": {
          "base_uri": "https://localhost:8080/",
          "height": 34
        },
        "outputId": "f1426d67-eed0-498d-e3c3-edf7b3a69d21"
      },
      "source": [
        " \n",
        "c[c<5]=-1\n",
        "print(c)"
      ],
      "execution_count": null,
      "outputs": [
        {
          "output_type": "stream",
          "text": [
            "[-1 -1]\n"
          ],
          "name": "stdout"
        }
      ]
    },
    {
      "cell_type": "markdown",
      "metadata": {
        "id": "Of4vUG7_bA_R",
        "colab_type": "text"
      },
      "source": [
        "# 3) Arithmetic operations on Numpy arrays"
      ]
    },
    {
      "cell_type": "code",
      "metadata": {
        "id": "CrZ3Xt8HbE4_",
        "colab_type": "code",
        "colab": {
          "base_uri": "https://localhost:8080/",
          "height": 122
        },
        "outputId": "51b1711a-b3a3-41e6-be89-b99996e0b45f"
      },
      "source": [
        " \n",
        "import numpy as np\n",
        "a = ([11,22,33])\n",
        "b = ([77,88,99])\n",
        "num_sum = np.add(a,b)\n",
        "num_diff = np.subtract(a,b)\n",
        "num_quo = np.divide(a,b)\n",
        "num_mod = np.mod(a,b)\n",
        "num_pow = np.power(a,b)\n",
        "print(num_sum)\n",
        "print(num_diff)\n",
        "print(num_quo)\n",
        "print(num_mod)\n",
        "print(num_pow)"
      ],
      "execution_count": null,
      "outputs": [
        {
          "output_type": "stream",
          "text": [
            "[ 88 110 132]\n",
            "[-66 -66 -66]\n",
            "[0.14285714 0.25       0.33333333]\n",
            "[11 22 33]\n",
            "[-4237123008362168005                    0  8674848675847231585]\n"
          ],
          "name": "stdout"
        }
      ]
    },
    {
      "cell_type": "markdown",
      "metadata": {
        "id": "n2NIWhQViNoD",
        "colab_type": "text"
      },
      "source": [
        "# 4)Slicing and iterating of Numpy arrays"
      ]
    },
    {
      "cell_type": "markdown",
      "metadata": {
        "id": "v0DqCLUCiPgV",
        "colab_type": "text"
      },
      "source": [
        "**Slicing**:"
      ]
    },
    {
      "cell_type": "code",
      "metadata": {
        "id": "WqRYSltxbYOC",
        "colab_type": "code",
        "colab": {
          "base_uri": "https://localhost:8080/",
          "height": 34
        },
        "outputId": "794c7592-2f8b-4a75-c03e-d61d4f78acc7"
      },
      "source": [
        " \n",
        "import numpy as np\n",
        "arr = np.array([11,22,33,44,55,66,77,88,99])\n",
        "print(arr[1:8])"
      ],
      "execution_count": null,
      "outputs": [
        {
          "output_type": "stream",
          "text": [
            "[22 33 44 55 66 77 88]\n"
          ],
          "name": "stdout"
        }
      ]
    },
    {
      "cell_type": "markdown",
      "metadata": {
        "id": "02wmUS1xbegS",
        "colab_type": "text"
      },
      "source": [
        "**Iterating**:"
      ]
    },
    {
      "cell_type": "code",
      "metadata": {
        "id": "CQVv60ANbryq",
        "colab_type": "code",
        "colab": {
          "base_uri": "https://localhost:8080/",
          "height": 170
        },
        "outputId": "2104d4d8-96ba-45d8-f090-7d6935e74844"
      },
      "source": [
        "for x in arr:\n",
        " print (x)"
      ],
      "execution_count": null,
      "outputs": [
        {
          "output_type": "stream",
          "text": [
            "11\n",
            "22\n",
            "33\n",
            "44\n",
            "55\n",
            "66\n",
            "77\n",
            "88\n",
            "99\n"
          ],
          "name": "stdout"
        }
      ]
    },
    {
      "cell_type": "markdown",
      "metadata": {
        "id": "QdTdIF-7b3LJ",
        "colab_type": "text"
      },
      "source": [
        "# 5)Matrix operations on Numpy arrays"
      ]
    },
    {
      "cell_type": "code",
      "metadata": {
        "id": "Ah3EiueIdWez",
        "colab_type": "code",
        "colab": {
          "base_uri": "https://localhost:8080/",
          "height": 119
        },
        "outputId": "6463d303-b2d4-4752-d74c-73384c545bcb"
      },
      "source": [
        " \n",
        "import numpy as np\n",
        "a = np.array([[11,22],[33,44]])\n",
        "b = np.array([[55,66],[77,88]])\n",
        "print(np.add(a,b))\n",
        "print(np.subtract(a,b))\n",
        "print(np.divide(a,b))"
      ],
      "execution_count": null,
      "outputs": [
        {
          "output_type": "stream",
          "text": [
            "[[ 66  88]\n",
            " [110 132]]\n",
            "[[-44 -44]\n",
            " [-44 -44]]\n",
            "[[0.2        0.33333333]\n",
            " [0.42857143 0.5       ]]\n"
          ],
          "name": "stdout"
        }
      ]
    }
  ]
}